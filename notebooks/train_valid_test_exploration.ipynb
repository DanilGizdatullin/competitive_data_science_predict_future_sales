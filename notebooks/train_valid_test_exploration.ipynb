{
 "cells": [
  {
   "cell_type": "code",
   "execution_count": 1,
   "metadata": {},
   "outputs": [],
   "source": [
    "import os\n",
    "\n",
    "import pandas as pd\n",
    "import numpy as np\n",
    "import matplotlib.pyplot as plt"
   ]
  },
  {
   "cell_type": "code",
   "execution_count": 2,
   "metadata": {},
   "outputs": [],
   "source": [
    "PATH_TO_DATA = '../data/'\n",
    "NUMBER_OF_PREVIOUS_MONTHS = 3"
   ]
  },
  {
   "cell_type": "code",
   "execution_count": 20,
   "metadata": {},
   "outputs": [],
   "source": [
    "sales_train = pd.read_csv(os.path.join(PATH_TO_DATA, 'sales_train.csv'))"
   ]
  },
  {
   "cell_type": "code",
   "execution_count": 21,
   "metadata": {},
   "outputs": [
    {
     "data": {
      "text/html": [
       "<div>\n",
       "<style scoped>\n",
       "    .dataframe tbody tr th:only-of-type {\n",
       "        vertical-align: middle;\n",
       "    }\n",
       "\n",
       "    .dataframe tbody tr th {\n",
       "        vertical-align: top;\n",
       "    }\n",
       "\n",
       "    .dataframe thead th {\n",
       "        text-align: right;\n",
       "    }\n",
       "</style>\n",
       "<table border=\"1\" class=\"dataframe\">\n",
       "  <thead>\n",
       "    <tr style=\"text-align: right;\">\n",
       "      <th></th>\n",
       "      <th>date</th>\n",
       "      <th>date_block_num</th>\n",
       "      <th>shop_id</th>\n",
       "      <th>item_id</th>\n",
       "      <th>item_price</th>\n",
       "      <th>item_cnt_day</th>\n",
       "    </tr>\n",
       "  </thead>\n",
       "  <tbody>\n",
       "    <tr>\n",
       "      <th>0</th>\n",
       "      <td>02.01.2013</td>\n",
       "      <td>0</td>\n",
       "      <td>59</td>\n",
       "      <td>22154</td>\n",
       "      <td>999.00</td>\n",
       "      <td>1.0</td>\n",
       "    </tr>\n",
       "    <tr>\n",
       "      <th>1</th>\n",
       "      <td>03.01.2013</td>\n",
       "      <td>0</td>\n",
       "      <td>25</td>\n",
       "      <td>2552</td>\n",
       "      <td>899.00</td>\n",
       "      <td>1.0</td>\n",
       "    </tr>\n",
       "    <tr>\n",
       "      <th>2</th>\n",
       "      <td>05.01.2013</td>\n",
       "      <td>0</td>\n",
       "      <td>25</td>\n",
       "      <td>2552</td>\n",
       "      <td>899.00</td>\n",
       "      <td>-1.0</td>\n",
       "    </tr>\n",
       "    <tr>\n",
       "      <th>3</th>\n",
       "      <td>06.01.2013</td>\n",
       "      <td>0</td>\n",
       "      <td>25</td>\n",
       "      <td>2554</td>\n",
       "      <td>1709.05</td>\n",
       "      <td>1.0</td>\n",
       "    </tr>\n",
       "    <tr>\n",
       "      <th>4</th>\n",
       "      <td>15.01.2013</td>\n",
       "      <td>0</td>\n",
       "      <td>25</td>\n",
       "      <td>2555</td>\n",
       "      <td>1099.00</td>\n",
       "      <td>1.0</td>\n",
       "    </tr>\n",
       "  </tbody>\n",
       "</table>\n",
       "</div>"
      ],
      "text/plain": [
       "         date  date_block_num  shop_id  item_id  item_price  item_cnt_day\n",
       "0  02.01.2013               0       59    22154      999.00           1.0\n",
       "1  03.01.2013               0       25     2552      899.00           1.0\n",
       "2  05.01.2013               0       25     2552      899.00          -1.0\n",
       "3  06.01.2013               0       25     2554     1709.05           1.0\n",
       "4  15.01.2013               0       25     2555     1099.00           1.0"
      ]
     },
     "execution_count": 21,
     "metadata": {},
     "output_type": "execute_result"
    }
   ],
   "source": [
    "sales_train.head()"
   ]
  },
  {
   "cell_type": "code",
   "execution_count": 22,
   "metadata": {},
   "outputs": [],
   "source": [
    "sales_train = (\n",
    "    sales_train.groupby(['date_block_num', 'shop_id', 'item_id']).agg({'item_price': np.mean, 'item_cnt_day': np.sum}).reset_index()\n",
    ")"
   ]
  },
  {
   "cell_type": "code",
   "execution_count": 23,
   "metadata": {},
   "outputs": [
    {
     "data": {
      "text/html": [
       "<div>\n",
       "<style scoped>\n",
       "    .dataframe tbody tr th:only-of-type {\n",
       "        vertical-align: middle;\n",
       "    }\n",
       "\n",
       "    .dataframe tbody tr th {\n",
       "        vertical-align: top;\n",
       "    }\n",
       "\n",
       "    .dataframe thead th {\n",
       "        text-align: right;\n",
       "    }\n",
       "</style>\n",
       "<table border=\"1\" class=\"dataframe\">\n",
       "  <thead>\n",
       "    <tr style=\"text-align: right;\">\n",
       "      <th></th>\n",
       "      <th>date_block_num</th>\n",
       "      <th>shop_id</th>\n",
       "      <th>item_id</th>\n",
       "      <th>item_price</th>\n",
       "      <th>item_cnt_day</th>\n",
       "    </tr>\n",
       "  </thead>\n",
       "  <tbody>\n",
       "    <tr>\n",
       "      <th>0</th>\n",
       "      <td>0</td>\n",
       "      <td>0</td>\n",
       "      <td>32</td>\n",
       "      <td>221.0</td>\n",
       "      <td>6.0</td>\n",
       "    </tr>\n",
       "    <tr>\n",
       "      <th>1</th>\n",
       "      <td>0</td>\n",
       "      <td>0</td>\n",
       "      <td>33</td>\n",
       "      <td>347.0</td>\n",
       "      <td>3.0</td>\n",
       "    </tr>\n",
       "    <tr>\n",
       "      <th>2</th>\n",
       "      <td>0</td>\n",
       "      <td>0</td>\n",
       "      <td>35</td>\n",
       "      <td>247.0</td>\n",
       "      <td>1.0</td>\n",
       "    </tr>\n",
       "    <tr>\n",
       "      <th>3</th>\n",
       "      <td>0</td>\n",
       "      <td>0</td>\n",
       "      <td>43</td>\n",
       "      <td>221.0</td>\n",
       "      <td>1.0</td>\n",
       "    </tr>\n",
       "    <tr>\n",
       "      <th>4</th>\n",
       "      <td>0</td>\n",
       "      <td>0</td>\n",
       "      <td>51</td>\n",
       "      <td>128.5</td>\n",
       "      <td>2.0</td>\n",
       "    </tr>\n",
       "  </tbody>\n",
       "</table>\n",
       "</div>"
      ],
      "text/plain": [
       "   date_block_num  shop_id  item_id  item_price  item_cnt_day\n",
       "0               0        0       32       221.0           6.0\n",
       "1               0        0       33       347.0           3.0\n",
       "2               0        0       35       247.0           1.0\n",
       "3               0        0       43       221.0           1.0\n",
       "4               0        0       51       128.5           2.0"
      ]
     },
     "execution_count": 23,
     "metadata": {},
     "output_type": "execute_result"
    }
   ],
   "source": [
    "sales_train.head()"
   ]
  },
  {
   "cell_type": "code",
   "execution_count": 24,
   "metadata": {},
   "outputs": [
    {
     "data": {
      "text/plain": [
       "array([ 0,  1,  2,  3,  4,  5,  6,  7,  8,  9, 10, 11, 12, 13, 14, 15, 16,\n",
       "       17, 18, 19, 20, 21, 22, 23, 24, 25, 26, 27, 28, 29, 30, 31, 32, 33])"
      ]
     },
     "execution_count": 24,
     "metadata": {},
     "output_type": "execute_result"
    }
   ],
   "source": [
    "sales_train['date_block_num'].unique()"
   ]
  },
  {
   "cell_type": "code",
   "execution_count": 37,
   "metadata": {},
   "outputs": [
    {
     "data": {
      "text/plain": [
       "29"
      ]
     },
     "execution_count": 37,
     "metadata": {},
     "output_type": "execute_result"
    }
   ],
   "source": [
    "32 - 3"
   ]
  },
  {
   "cell_type": "code",
   "execution_count": 38,
   "metadata": {},
   "outputs": [
    {
     "data": {
      "text/plain": [
       "20.299999999999997"
      ]
     },
     "execution_count": 38,
     "metadata": {},
     "output_type": "execute_result"
    }
   ],
   "source": [
    "29 * 0.7"
   ]
  },
  {
   "cell_type": "markdown",
   "metadata": {},
   "source": [
    "### Train - val - test  \n",
    "* train is the first 20 months\n",
    "* val is the second 9 months\n",
    "* test is the last month"
   ]
  },
  {
   "cell_type": "code",
   "execution_count": 58,
   "metadata": {},
   "outputs": [],
   "source": [
    "def make_dataset(fisrt_month: int, last_month: int) -> pd.DataFrame:\n",
    "    # for valid_month in range(3, 33):\n",
    "    total_dataset = None\n",
    "    for valid_month in range(fisrt_month, last_month):\n",
    "        valid_sales = sales_train[sales_train['date_block_num'] == valid_month].copy(deep=True)\n",
    "        valid_sales = valid_sales[['shop_id', 'item_id', 'item_cnt_day']]\n",
    "        total_month_dataset = valid_sales\n",
    "        for j in range(1, NUMBER_OF_PREVIOUS_MONTHS+1):\n",
    "            train_month = valid_month - j\n",
    "            train_sales = sales_train[sales_train['date_block_num'] == train_month].copy(deep=True)\n",
    "            train_sales = train_sales[['shop_id', 'item_id', 'item_price', 'item_cnt_day']]\n",
    "            train_sales.rename(columns={\n",
    "                'item_price': f'item_price_lag_{j}',\n",
    "                'item_cnt_day': f'item_cnt_day_lag_{j}'\n",
    "            }, inplace=True)\n",
    "            \n",
    "            total_month_dataset = pd.merge(total_month_dataset, train_sales, on=['shop_id', 'item_id'], how='left')\n",
    "        \n",
    "        cols = list(total_month_dataset.columns.values)\n",
    "        cols.pop(cols.index('item_cnt_day'))\n",
    "        cols.append('item_cnt_day')\n",
    "        total_month_dataset = total_month_dataset[cols]\n",
    "\n",
    "        if total_dataset is None:\n",
    "            total_dataset = total_month_dataset\n",
    "        else:\n",
    "            total_dataset = pd.concat([total_dataset, total_month_dataset], axis=1)\n",
    "\n",
    "    return total_dataset"
   ]
  },
  {
   "cell_type": "code",
   "execution_count": 59,
   "metadata": {},
   "outputs": [
    {
     "name": "stdout",
     "output_type": "stream",
     "text": [
      "   shop_id  item_id  item_price_lag_1  item_cnt_day_lag_1  item_price_lag_2  \\\n",
      "0      2.0     31.0             698.5                 1.0             699.0   \n",
      "1      2.0    464.0               NaN                 NaN               NaN   \n",
      "2      2.0    482.0            3300.0                 1.0            3300.0   \n",
      "3      2.0    484.0             300.0                 2.0             300.0   \n",
      "4      2.0    485.0               NaN                 NaN               NaN   \n",
      "\n",
      "   item_cnt_day_lag_2  item_price_lag_3  item_cnt_day_lag_3  item_cnt_day  \\\n",
      "0                 4.0               NaN                 NaN           1.0   \n",
      "1                 NaN               NaN                 NaN           1.0   \n",
      "2                 1.0            3300.0                 1.0           1.0   \n",
      "3                 4.0             300.0                 2.0           3.0   \n",
      "4                 NaN               NaN                 NaN           2.0   \n",
      "\n",
      "   shop_id      ...       item_cnt_day  shop_id  item_id  item_price_lag_1  \\\n",
      "0      2.0      ...                1.0      2.0     33.0               NaN   \n",
      "1      2.0      ...                1.0      2.0    486.0               NaN   \n",
      "2      2.0      ...                1.0      2.0    792.0             979.0   \n",
      "3      2.0      ...                2.0      2.0    975.0               NaN   \n",
      "4      2.0      ...                1.0      2.0   1090.0               NaN   \n",
      "\n",
      "   item_cnt_day_lag_1  item_price_lag_2  item_cnt_day_lag_2  item_price_lag_3  \\\n",
      "0                 NaN             199.0                 1.0               NaN   \n",
      "1                 NaN               NaN                 NaN             300.0   \n",
      "2                 2.0               NaN                 NaN             979.0   \n",
      "3                 NaN             349.0                 1.0               NaN   \n",
      "4                 NaN               NaN                 NaN             499.0   \n",
      "\n",
      "   item_cnt_day_lag_3  item_cnt_day  \n",
      "0                 NaN           1.0  \n",
      "1                 2.0           1.0  \n",
      "2                 1.0           1.0  \n",
      "3                 NaN           1.0  \n",
      "4                 1.0           1.0  \n",
      "\n",
      "[5 rows x 270 columns]\n",
      "CPU times: user 5.82 s, sys: 2.46 s, total: 8.28 s\n",
      "Wall time: 8.62 s\n"
     ]
    }
   ],
   "source": [
    "%%time\n",
    "make_dataset(3, 33)"
   ]
  },
  {
   "cell_type": "code",
   "execution_count": null,
   "metadata": {},
   "outputs": [],
   "source": []
  }
 ],
 "metadata": {
  "kernelspec": {
   "display_name": "Python (common36)",
   "language": "python",
   "name": "common36"
  },
  "language_info": {
   "codemirror_mode": {
    "name": "ipython",
    "version": 3
   },
   "file_extension": ".py",
   "mimetype": "text/x-python",
   "name": "python",
   "nbconvert_exporter": "python",
   "pygments_lexer": "ipython3",
   "version": "3.6.6"
  }
 },
 "nbformat": 4,
 "nbformat_minor": 2
}
